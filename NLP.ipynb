{
 "cells": [
  {
   "cell_type": "code",
   "execution_count": 1,
   "id": "55a80f5a",
   "metadata": {},
   "outputs": [],
   "source": [
    "import pandas as pd\n",
    "import re\n",
    "import string\n",
    "import spacy\n",
    "import math\n",
    "nlp = spacy.load(\"en_core_web_sm\")"
   ]
  },
  {
   "cell_type": "code",
   "execution_count": 2,
   "id": "62927705",
   "metadata": {},
   "outputs": [],
   "source": [
    "mycsv = pd.read_csv(r\"C:\\Users\\Justin\\Downloads\\tweet-text_leftism.csv\", squeeze=True)"
   ]
  },
  {
   "cell_type": "code",
   "execution_count": 3,
   "id": "b5d0dd18",
   "metadata": {
    "scrolled": false
   },
   "outputs": [],
   "source": [
    "#change this back to tweets before uncommenting\n",
    "tweets2 = mycsv.str.encode('ascii', 'ignore').str.decode('ascii')"
   ]
  },
  {
   "cell_type": "code",
   "execution_count": 4,
   "id": "797bcbf0",
   "metadata": {
    "scrolled": false
   },
   "outputs": [],
   "source": [
    "#experimenting with cleaning up text within spaCy\n",
    "\n",
    "#clean_tweets = []\n",
    "\n",
    "#for tweet in tweets:\n",
    "#    tweet = re.sub(\"@[A-Za-z0-9]+\",\"\",tweet) #Remove @ sign\n",
    "#    tweet = re.sub(\"#[A-Za-z0-9]+\",\"\",tweet)\n",
    "#    tweet = re.sub(r'[\\n\\t\\f\\r\\v]', '', tweet)\n",
    "#    tweet = re.sub(\"-+\", \" \", tweet)\n",
    "#    tweet = re.sub(\"_+\", \"\", tweet)\n",
    "#    tweet = re.sub(r\"(@\\[A-Za-z0-9]+)|(\\w+:\\/\\/\\S+)|^rt|http.+?\", \"\", tweet)\n",
    "#    tweet = re.sub(r'[(*)^{},#;:!@?]', '', tweet)\n",
    "#   tweet = re.sub(\" +\", \" \", tweet)\n",
    "#    tweet = re.sub(r\"\\\\\", '', tweet)\n",
    "#    tweet = re.sub('/', '', tweet)\n",
    "#    tweet = tweet.strip()\n",
    "#    clean_tweets.append(tweet)\n",
    "\n",
    "#len(clean_tweets)\n",
    "\n"
   ]
  },
  {
   "cell_type": "code",
   "execution_count": 5,
   "id": "585afc46",
   "metadata": {
    "scrolled": true
   },
   "outputs": [],
   "source": [
    "# tweets2 = [x for x in clean_tweets if x not in ['', '.', '..', '. .', '. . .', '...', '.... ...', '. .. .', '.. . .... .',\n",
    "#'. . .. . ...', '. . . .', '... .', '... ...', '.......', '... ... .. ..', '....', '... ..', '....']]\n",
    "#tweets2"
   ]
  },
  {
   "cell_type": "code",
   "execution_count": 6,
   "id": "4e4cddf0",
   "metadata": {},
   "outputs": [],
   "source": [
    "tweets2 = tweets2[275000:300000]"
   ]
  },
  {
   "cell_type": "code",
   "execution_count": 7,
   "id": "66721b5d",
   "metadata": {
    "scrolled": false
   },
   "outputs": [
    {
     "data": {
      "text/plain": [
       "3931393"
      ]
     },
     "execution_count": 7,
     "metadata": {},
     "output_type": "execute_result"
    }
   ],
   "source": [
    "y=\" \".join(tweets2)\n",
    "#y = re.sub(r'([/~+=])|(&amp)|[\\\"]', '', y)\n",
    "#y= re.sub(' +', ' ', y)\n",
    "len(y)"
   ]
  },
  {
   "cell_type": "code",
   "execution_count": 9,
   "id": "fe818373",
   "metadata": {},
   "outputs": [
    {
     "data": {
      "text/plain": [
       "<spacy.pipeline.sentencizer.Sentencizer at 0x24a3b38f400>"
      ]
     },
     "execution_count": 9,
     "metadata": {},
     "output_type": "execute_result"
    }
   ],
   "source": [
    "#need to implement a pipe for our large data set\n",
    "nlp.max_length = 4000000\n",
    "doc = nlp(y)\n",
    "\n",
    "#nlp.add_pipe(\"sentencizer\")\n",
    "#testing if we need this first or not"
   ]
  },
  {
   "cell_type": "code",
   "execution_count": 10,
   "id": "80f46133",
   "metadata": {
    "scrolled": true
   },
   "outputs": [
    {
     "data": {
      "text/plain": [
       "703648"
      ]
     },
     "execution_count": 10,
     "metadata": {},
     "output_type": "execute_result"
    }
   ],
   "source": [
    "def make_english(document):\n",
    "    #our motivation here is to use list comprehension to filter out all tokens that are not English. Change this for\n",
    "    #your own language if your app is not designed for English\n",
    "    return [token for token in document if token.lang_ == 'en']\n",
    "\n",
    "english_doc = make_english(doc)\n",
    "len(english_doc)"
   ]
  },
  {
   "cell_type": "code",
   "execution_count": 11,
   "id": "9677d196",
   "metadata": {},
   "outputs": [
    {
     "name": "stdout",
     "output_type": "stream",
     "text": [
      "321349\n"
     ]
    },
    {
     "data": {
      "text/plain": [
       "2612641"
      ]
     },
     "execution_count": 11,
     "metadata": {},
     "output_type": "execute_result"
    }
   ],
   "source": [
    "def normalize(text):\n",
    "    norm_text = []\n",
    "    for token in text:\n",
    "        if not token.is_punct and not token.is_stop and not token.is_space:\n",
    "            norm_text.append(token.lemma_.lower())\n",
    "    print(len(norm_text))       #how many words\n",
    "    return ' '.join(norm_text)\n",
    "\n",
    "normalize_text = normalize(english_doc)\n",
    "len(normalize_text)    #how many characters"
   ]
  },
  {
   "cell_type": "code",
   "execution_count": 29,
   "id": "885dfb61",
   "metadata": {
    "scrolled": true
   },
   "outputs": [
    {
     "name": "stdout",
     "output_type": "stream",
     "text": [
      "('@francstregone', 'TWEETER')\n",
      "('zoomer bio lemme', 'PERSON')\n",
      "('@tribune_ofplebs', 'TWEETER')\n",
      "('@iamwatson', 'TWEETER')\n",
      "('@proppatingz1', 'TWEETER')\n",
      "('@dnjdeli', 'ORG')\n",
      "('@samueldc1968', 'TWEETER')\n",
      "('@johnwalterseip', 'TWEETER')\n",
      "('@heartscanner03', 'TWEETER')\n",
      "('@jeanett46341054', 'TWEETER')\n",
      "('@ziwukong', 'TWEETER')\n",
      "('@kennymxu', 'TWEETER')\n",
      "('@freeeastturki', 'CARDINAL')\n",
      "('@zeekarkham', 'ORG')\n",
      "('@revrrlewis', 'TWEETER')\n",
      "('christmas', 'DATE')\n",
      "('@angerypeache', 'ORG')\n",
      "('@johnmiddlekauff', 'TWEETER')\n",
      "('@davidmilley22', 'GPE')\n",
      "('canada', 'GPE')\n",
      "('@rechelon', 'ORG')\n",
      "('@consul001', 'TWEETER')\n",
      "('@rhubbacomedy', 'TWEETER')\n",
      "('@kanganateam', 'ORG')\n",
      "('@unionistred', 'TWEETER')\n",
      "('china', 'GPE')\n",
      "('mao', 'PERSON')\n",
      "('@dmeisner99', 'TWEETER')\n",
      "('@thebabylonbee', 'TWEETER')\n",
      "('@dogphoenixwp', 'TWEETER')\n",
      "('@relentlessyapp', 'TWEETER')\n",
      "('@jamaalbowmanny', 'TWEETER')\n",
      "('democrats', 'NORP')\n",
      "('@galaxyelotakul1', 'TWEETER')\n",
      "('@rationaldis', 'TWEETER')\n",
      "('@prageru', 'TWEETER')\n",
      "('@republicanrehab @whurensohn @reganlieutenant @nowthen33 @bmoredefiant @openthread @sumatrasue', 'ORG')\n",
      "('cnn', 'ORG')\n",
      "('@rand1mustafa', 'TWEETER')\n",
      "('@princeofbavel', 'TWEETER')\n",
      "('american', 'NORP')\n",
      "('@uhshanti', 'ORG')\n",
      "('@timmyhotep', 'ORG')\n",
      "('@tom_ferret', 'TWEETER')\n",
      "('@kenzoshibata', 'ORG')\n",
      "('@dariorahim', 'ORG')\n",
      "('@anarchat', 'TWEETER')\n",
      "('month ago', 'DATE')\n",
      "('@schlockdaddy', 'TWEETER')\n",
      "('@vexedinthecity', 'TWEETER')\n",
      "('@diodeeeee s', 'PRODUCT')\n",
      "('@thesandmanesq', 'TWEETER')\n",
      "('@nicksmashed', 'TWEETER')\n",
      "('@poetgambler', 'TWEETER')\n",
      "('@iamnotkowalski', 'TWEETER')\n",
      "('@myschieff', 'TWEETER')\n",
      "('@thekenchild', 'TWEETER')\n",
      "('@pickledllama', 'TWEETER')\n",
      "('@dyshandle', 'TWEETER')\n",
      "('@shade_meadow', 'TWEETER')\n",
      "('@yoduppio', 'TWEETER')\n",
      "('@caribbean_lion', 'TWEETER')\n",
      "('@fiorella_im', 'TWEETER')\n",
      "('democrat', 'NORP')\n",
      "('30 year ago 2024', 'DATE')\n",
      "('0', 'CARDINAL')\n",
      "('@kakashi0367 @unavailabelle', 'PRODUCT')\n",
      "('mei dekhne', 'PERSON')\n",
      "('@gurdubuim', 'TWEETER')\n",
      "('@gexuma1', 'TWEETER')\n",
      "('@patiotoole', 'TWEETER')\n",
      "('@vtg2', 'PRODUCT')\n",
      "('@rubinreport', 'ORG')\n",
      "('@mattsdoreen', 'TWEETER')\n",
      "('@maggiem46', 'TWEETER')\n",
      "('@paulareidcbs', 'TWEETER')\n",
      "('@cbsnews', 'TWEETER')\n",
      "('@shoe_sticky', 'TWEETER')\n",
      "('today', 'DATE')\n",
      "('@jeffthegk', 'ORG')\n",
      "('@katiecannon2', 'TWEETER')\n",
      "('@trinaintx', 'TWEETER')\n",
      "('@holidayhobo', 'TWEETER')\n",
      "('@proreviewer1', 'TWEETER')\n",
      "('@eveningstarnm', 'TWEETER')\n",
      "('@waywardwinifre', 'TWEETER')\n",
      "('@spongeworthy2', 'TWEETER')\n",
      "('@pmoonbat @jordanschachtel', 'ORG')\n",
      "('2016', 'DATE')\n",
      "('@http_lovecraft', 'TWEETER')\n",
      "('@shaun_vids', 'TWEETER')\n",
      "('@newsmax @floriogina', 'ORG')\n",
      "('@dank_left', 'TWEETER')\n",
      "('@carterforva', 'ORG')\n",
      "('@justice4duck', 'TWEETER')\n",
      "('@iwanap69', 'TWEETER')\n",
      "('@iainmartin1', 'TWEETER')\n",
      "('@nickthecynic', 'ORG')\n",
      "('scottish', 'NORP')\n",
      "('@m3rcapt4n', 'TWEETER')\n",
      "('@jamie_elizabeth', 'PERSON')\n",
      "('@wnyantifascist', 'TWEETER')\n",
      "('@lukeobrien', 'TWEETER')\n",
      "('@antifascistf12', 'TWEETER')\n",
      "('@lozzafox', 'ORG')\n",
      "('@francisaaronuk', 'ORG')\n",
      "('@yesthatanna', 'ORG')\n",
      "('soviet', 'NORP')\n",
      "('russia', 'GPE')\n",
      "('@yesthatanna', 'ORG')\n",
      "('@xoxogossipgita', 'PERSON')\n",
      "('@feezus2019', 'TWEETER')\n",
      "('@gmorkservant', 'TWEETER')\n",
      "('@60minute', 'TWEETER')\n",
      "('@cbsnews', 'TWEETER')\n",
      "('@le_faguette', 'TWEETER')\n",
      "('@originalstacia', 'PERSON')\n",
      "('kantian', 'NORP')\n",
      "('@aoc', 'TWEETER')\n",
      "('america', 'GPE')\n",
      "('@leftism', 'TWEETER')\n",
      "('@venusinfurrs', 'PERSON')\n",
      "('@britmartinez', 'ORG')\n",
      "('@canceroustomato', 'ORG')\n",
      "('@robertblyton', 'TWEETER')\n",
      "('@joluehmann', 'TWEETER')\n",
      "('muhammad', 'PERSON')\n",
      "('@cernovich', 'TWEETER')\n",
      "('@themikelcrump', 'TWEETER')\n",
      "('@jujubeestar', 'ORG')\n",
      "('@lvl29mage', 'TWEETER')\n",
      "('richard wolff', 'PERSON')\n",
      "('@proudmarxist', 'PERSON')\n",
      "('idiocy point', 'PERSON')\n",
      "('@over9000 ft @nathanjrobinson', 'PERSON')\n",
      "('lee fang intern', 'PERSON')\n",
      "('steny', 'NORP')\n"
     ]
    }
   ],
   "source": [
    "#Since our normalized text is now a string, we have to turn it into a document before we iterate over it\n",
    "doc2 = nlp(normalize_text)\n",
    "\n",
    "for ent in doc2[:1000].ents:\n",
    "    print((ent.text, ent.label_))"
   ]
  },
  {
   "cell_type": "code",
   "execution_count": 15,
   "id": "b41b5634",
   "metadata": {
    "scrolled": true
   },
   "outputs": [],
   "source": [
    "ruler = nlp.add_pipe(\"entity_ruler\", after=\"ner\")"
   ]
  },
  {
   "cell_type": "code",
   "execution_count": 36,
   "id": "adb689e6",
   "metadata": {},
   "outputs": [
    {
     "name": "stdout",
     "output_type": "stream",
     "text": [
      "['@francstregone', '@tribune_ofplebs', '@iamwatson', '@proppatingz1', '@dnjdeli', '@samueldc1968', '@johnwalterseip', '@heartscanner03', '@jeanett46341054', '@ziwukong', '@kennymxu', '@freeeastturki', '@zeekarkham', '@revrrlewis', '@angerypeache', '@johnmiddlekauff', '@davidmilley22', '@rechelon', '@consul001', '@rhubbacomedy', '@kanganateam', '@unionistred', '@dmeisner99', '@thebabylonbee', '@dogphoenixwp', '@relentlessyapp', '@jamaalbowmanny', '@galaxyelotakul1', '@rationaldis', '@prageru', '@republicanrehab', '@whurensohn', '@reganlieutenant', '@nowthen33', '@bmoredefiant', '@openthread', '@sumatrasue', '@rand1mustafa', '@princeofbavel', '@uhshanti', '@timmyhotep', '@tom_ferret', '@kenzoshibata', '@dariorahim', '@anarchat', '@schlockdaddy', '@vexedinthecity', '@diodeeeee', '@thesandmanesq', '@nicksmashed', '@poetgambler', '@iamnotkowalski', '@myschieff', '@thekenchild', '@pickledllama', '@dyshandle', '@shade_meadow', '@yoduppio', '@caribbean_lion', '@fiorella_im', '@kakashi0367', '@unavailabelle', '@gurdubuim', '@gexuma1', '@patiotoole', '@vtg2', '@rubinreport', '@mattsdoreen', '@maggiem46', '@paulareidcbs', '@cbsnews', '@shoe_sticky', '@jeffthegk', '@katiecannon2', '@trinaintx', '@holidayhobo', '@proreviewer1', '@eveningstarnm', '@waywardwinifre', '@spongeworthy2', '@pmoonbat', '@jordanschachtel', '@http_lovecraft', '@shaun_vids', '@newsmax', '@floriogina', '@dank_left', '@carterforva', '@justice4duck', '@iwanap69', '@iainmartin1', '@nickthecynic', '@m3rcapt4n', '@jamie_elizabeth', '@wnyantifascist', '@lukeobrien', '@antifascistf12', '@lozzafox', '@francisaaronuk', '@yesthatanna', '@yesthatanna', '@xoxogossipgita', '@feezus2019', '@gmorkservant', '@60minute', '@cbsnews', '@le_faguette', '@originalstacia', '@aoc', '@leftism', '@venusinfurrs', '@britmartinez', '@canceroustomato', '@robertblyton', '@joluehmann', '@cernovich', '@themikelcrump', '@jujubeestar', '@lvl29mage', '@proudmarxist', '@over9000', '@nathanjrobinson', '@joethomas73', '@tomfitton', '@saltycracker9', '@jaredlipof', '@josh_hamm', '@realllrenno', '@scuffeddario', '@greg06897', '@mtaibbi', '@phil7521', '@bbcnew', '@skynews', '@usalovegod', '@pandasandvidya', '@tereseaimee', '@dailycaller', '@jackposobiec', '@captainhot24', '@jasonafexfa', '@leekern13', '@hila0z', '@erven_eth', '@eddiezipperer', '@tony_robinson', '@realjameswood', '@mrboogedy4lyfe', '@toryboypierce', '@dcbmep', '@franks_pc', '@drtarao', '@sungyoonlee1', '@loondale', '@cnevarez', '@tracybeanz', '@danscavino', '@staypatriotic', '@topcitystorm', '@thequartering', '@prolifeusisrael', '@saintheartwe', '@scrowder', '@mattwalshblog', '@mattwalshblog', '@aadhiraspeaks', '@strangerofthes1', '@mcrumps', '@alawsonlawyer', '@trumpjew', '@comfortablysmug', '@blunt4libs', '@timcast', '@euridentitaires', '@brittne16786157', '@teenvogue', '@donewman', '@blagojevism', '@texastribune', '@tedcruz', '@realsaavedra', '@kwertzy', '@realdonaldtrump', '@danielmgmoylan', '@robbystarbuck', '@thebradfordfile', '@boromirtrades', '@adelecarlsen', '@odogg9', '@susannareid100', '@maitlis', '@protestantwind', '@guenboozy29', '@leftism', '@reinasworld2020', '@tetradram', '@mlarxist', '@birthmarxist', '@progress4ga', '@mayaforgeorgia', '@mdillard_smith', '@georgiademocrat', '@latimes', '@rellyluvsfairen', '@cmsh1969', '@surabees', '@timmurtaugh', '@twitter', '@jack', '@joebiden', '@davidmweissman', '@battlegroyper', '@crypto_moza', '@380', '@realdailywire', '@brennanator', '@ap4liberty', '@avivamo7', '@photogmarc_ent', '@bbc6music', '@kylenabecker', '@billweircnn', '@painter37502325', '@stanick_richard', '@bigdongdesantis', '@itdbitd', '@jamaalbowmanny', '@waytowichneil', '@undeterredmind', '@_xlnc', '@whitehaircj', '@playoffwiggs', '@timeswithteka', '@statmuse', '@tetrologyreal', '@ghostbride33', '@luffydude1', '@nate64', '@theactman_yt', '@redwildcat', '@ttaveler', '@kathyhoffman_az', '@jonathan_wcm', '@jsolomonreport', '@the_poggy_doggy', '@crusadxr', '@noamkissinger', '@demoleona', '@joviantitan', '@ridnwthbiden', '@catboyjazzy', '@sinow', '@gregbishopsi', '@mrs_reneej', '@daily_leftism', '@thedemocrat', '@billkristol', '@billkristol', '@ibeasmart1', '@seamusmcrea', '@stlbruin', '@scrowder', '@aoc', '@apolloisgayy', '@ambjg', '@jasonintrator', '@methe80s', '@chels0r', '@comradekimdawn', '@comradefallen', '@callawalsh', '@antifascistht', '@maudmaron', '@radiofreetom', '@rstemler1', '@timonpoint', '@chloevtweet', '@sassyliberal1', '@auntie_anxiety', '@davidhogg111', '@houngsheldon', '@ethnicohioan', '@legalizecrime66', '@vanguard_pod', '@peoplesparty_us', '@roborob17', '@bellarosa_tx', '@threadreaderapp', '@x_ragdoll', '@shoe0nhead', '@fatherlyhq', '@zerohedge', '@historyboomer', '@johnythewalrus', '@harmonizedgrace', '@dan__hofstetter', '@aless1002', '@climacusd', '@mamadelamuerte', '@con_suma', '@nick_oswald', '@dr_nkbear', '@lilitica', '@adrianzenz', '@balcilic', '@marymargolohan', '@mattwalshblog', '@whatthetrans', '@adamcarolla', '@naughtbonesy', '@leachfortexas', '@scottbraddock', '@reutersshowbiz', '@larichwine', '@nbedera', '@aoc', '@ryanjon76121846', '@wolffofpsu', '@daily_leftism', '@jeanett12810864', '@scrowder', '@rothmus', '@lawrencebjones3', '@coramdeo777', '@yardratt2000', '@nealjimenez132', '@sacred_leftism', '@cathprep1', '@realdailywire', '@nerva3dn', '@reddit_tlcm', '@sacred_leftism', '@srv_vol', '@ahmadgarza3', '@libsoftiktok', '@crimesenjoyer', '@joelibertarian1', '@potus', '@marksmusic1977', '@dickwatty', '@young_blood4pf', '@torncosmos', '@zei_squirrel', '@shelloramarn', '@soylent_meme', '@lolleftrigth', '@aussieoracle', '@merrymommy', '@danintheoutback', '@hermeticstoner', '@bern_marx', '@ihatekennym', '@vinnythecrow', '@theserfstv', '@makeitrayn', '@socdoneleft', '@caseyjpod', '@mattwalshblog', '@theblackkristy1', '@man_o_war_speak', '@femboy_leftism', '@mattfradd', '@normalice0', '@jefferythomson3', '@heytrue', '@theblaze', '@oregonbluedog', '@aranganathan72', '@fla_pol', '@voterandyfine', '@jacobogles', '@eljvdl', '@femboy_leftism', '@timcast', '@ronplacone', '@femboy_leftism', '@femboy_leftism', '@femboyskyrim', '@frisk_1', '@femwater', '@femboy_leftism', '@hoodstocki', '@zaidjilani', '@neilshenvi', '@hardballchris', '@femboy_leftism', '@swedishfemboy', '@femboy_leftism', '@chipotleextra', '@pouncereps', '@mattyglesias', '@jdvance1', '@warrior19rn', '@fiatluxgenesis', '@jslstorie', '@gigamed', '@gigamed', '@danielkrouse4', '@illustrious_cee', '@tobitac', '@femboy_leftism', '@zeteticadvocate', '@owoneesan', '@reddit_tlcm', '@kwtweet99', '@capkronos', '@falls2028', '@scribblesscript', '@femboy_leftism', '@grumbo_grum', '@jacobt5404', '@grumbo_grum', '@femboy_corbin', '@femboy_leftism', '@femwater', '@michelletandler', '@femboy_leftism', '@femboy_leftism', '@spaghettikozak', '@jackg425', '@tenientetormen1', '@yepmira', '@pacaussie', '@abcnew', '@dhruv_rathee', '@socialist_simp', '@yepmira', '@jennafernyx', '@sallyhunt666', '@b_bakunin', '@arekdougy', '@kingbullyo', '@themattdimitri', '@nomikikonst', '@teapainusa', '@v__sphere', '@gwencystic', '@infrahaz', '@andrewjcrook', '@karol', '@dontvotesplit', '@aliamjadrizvi', '@femboy_leftism', '@eyes_supreme', '@libsmoke', '@pabst_playboi', '@oturisk', '@thislifetoday', '@conorsen', '@mattyglesias', '@rule_tunnel', '@nicolasgagn13', '@0nlad0ras', '@vaushv', '@femboy_leftism', '@femboy_leftism', '@shugosha', '@kristiluvsjesus', '@thewaythingslo1', '@sfchronicle', '@femboy_leftism', '@heyitsrileykthx', '@yaf', '@michaeljknowles', '@boyday2', '@trans_gaymer', '@femboy_leftism', '@tom_in_sfca', '@underpastor', '@suzania', '@justthi30117912', '@alexandrosm', '@hollymathnerd', '@ange1914', '@kb052276', '@sweeteggperson', '@timcast', '@baezantium', '@femboy_leftism', '@unhealthytruth', '@mtsw', '@swampcommunist', '@thadbentley5', '@tony_damiano', '@marketurbanism', '@uhshanti', '@spiroferrer', '@rcmoya84', '@femboy_leftism', '@femboy_leftism', '@juan_dla_mancha', '@dreamleaf5', '@shoe0nhead', '@femboy_leftism', '@femboy_leftism', '@femboy_leftism', '@markorwalsh', '@egirlmonetarism', '@iam_localboy', '@maanniiiiiii']\n"
     ]
    }
   ],
   "source": [
    "pattern = \"\\@[a-z0-9_]+\"\n",
    "matches = re.findall(pattern, doc2.text)\n",
    "\n",
    "print(matches[:500])"
   ]
  },
  {
   "cell_type": "code",
   "execution_count": 27,
   "id": "2ae712d5",
   "metadata": {},
   "outputs": [
    {
     "name": "stdout",
     "output_type": "stream",
     "text": [
      "[{'label': 'TWEETER', 'pattern': '@francstregone '}, {'label': 'TWEETER', 'pattern': '@tribune_ofplebs '}, {'label': 'TWEETER', 'pattern': '@iamwatson '}, {'label': 'TWEETER', 'pattern': '@proppatingz1 '}, {'label': 'TWEETER', 'pattern': '@dnjdeli '}, {'label': 'TWEETER', 'pattern': '@samueldc1968 '}, {'label': 'TWEETER', 'pattern': '@johnwalterseip '}, {'label': 'TWEETER', 'pattern': '@heartscanner03 '}, {'label': 'TWEETER', 'pattern': '@jeanett46341054 '}, {'label': 'TWEETER', 'pattern': '@ziwukong '}, {'label': 'TWEETER', 'pattern': '@kennymxu '}, {'label': 'TWEETER', 'pattern': '@freeeastturki '}, {'label': 'TWEETER', 'pattern': '@zeekarkham '}, {'label': 'TWEETER', 'pattern': '@revrrlewis '}, {'label': 'TWEETER', 'pattern': '@angerypeache '}, {'label': 'TWEETER', 'pattern': '@johnmiddlekauff '}, {'label': 'TWEETER', 'pattern': '@davidmilley22 '}, {'label': 'TWEETER', 'pattern': '@rechelon '}, {'label': 'TWEETER', 'pattern': '@consul001 '}, {'label': 'TWEETER', 'pattern': '@rhubbacomedy '}]\n"
     ]
    }
   ],
   "source": [
    "patterns = []\n",
    "for i in matches:\n",
    "    patterns.append({\"label\": \"TWEETER\", \"pattern\": f\"{i}\"})\n",
    "\n",
    "print(patterns[:20])"
   ]
  },
  {
   "cell_type": "code",
   "execution_count": 28,
   "id": "2f9badda",
   "metadata": {},
   "outputs": [],
   "source": [
    "ruler.add_patterns(patterns)"
   ]
  },
  {
   "cell_type": "code",
   "execution_count": null,
   "id": "9c48ce0c",
   "metadata": {},
   "outputs": [],
   "source": []
  }
 ],
 "metadata": {
  "kernelspec": {
   "display_name": "Python 3",
   "language": "python",
   "name": "python3"
  },
  "language_info": {
   "codemirror_mode": {
    "name": "ipython",
    "version": 3
   },
   "file_extension": ".py",
   "mimetype": "text/x-python",
   "name": "python",
   "nbconvert_exporter": "python",
   "pygments_lexer": "ipython3",
   "version": "3.8.8"
  }
 },
 "nbformat": 4,
 "nbformat_minor": 5
}
